{
 "cells": [
  {
   "cell_type": "markdown",
   "metadata": {},
   "source": [
    "![](../data/pic.jpg)"
   ]
  },
  {
   "cell_type": "code",
   "execution_count": 1,
   "metadata": {
    "ExecuteTime": {
     "end_time": "2020-08-19T12:45:11.177665Z",
     "start_time": "2020-08-19T12:45:11.173675Z"
    }
   },
   "outputs": [],
   "source": [
    "# chargement des librairies"
   ]
  },
  {
   "cell_type": "code",
   "execution_count": 2,
   "metadata": {
    "ExecuteTime": {
     "end_time": "2020-08-19T12:45:11.679045Z",
     "start_time": "2020-08-19T12:45:11.675057Z"
    }
   },
   "outputs": [],
   "source": [
    "# importer les fichiers"
   ]
  },
  {
   "cell_type": "code",
   "execution_count": 3,
   "metadata": {
    "ExecuteTime": {
     "end_time": "2020-08-19T12:45:12.087281Z",
     "start_time": "2020-08-19T12:45:12.083284Z"
    }
   },
   "outputs": [],
   "source": [
    "# visualiser les 5 premieres lignes"
   ]
  },
  {
   "cell_type": "code",
   "execution_count": 4,
   "metadata": {
    "ExecuteTime": {
     "end_time": "2020-08-19T12:45:12.711567Z",
     "start_time": "2020-08-19T12:45:12.707577Z"
    }
   },
   "outputs": [],
   "source": [
    "#  donner la dimension de chaque fichiers"
   ]
  },
  {
   "cell_type": "code",
   "execution_count": 5,
   "metadata": {
    "ExecuteTime": {
     "end_time": "2020-08-19T12:45:13.119915Z",
     "start_time": "2020-08-19T12:45:13.115927Z"
    }
   },
   "outputs": [],
   "source": [
    "# lister les colonnes des fichiers et determiner leurs types"
   ]
  },
  {
   "cell_type": "code",
   "execution_count": 6,
   "metadata": {
    "ExecuteTime": {
     "end_time": "2020-08-19T12:45:14.199564Z",
     "start_time": "2020-08-19T12:45:13.505744Z"
    }
   },
   "outputs": [],
   "source": [
    "# changer les types des variables ddate_id, expiredate du premier fichier en type date"
   ]
  },
  {
   "cell_type": "code",
   "execution_count": 7,
   "metadata": {
    "ExecuteTime": {
     "end_time": "2020-08-19T12:45:14.315767Z",
     "start_time": "2020-08-19T12:45:14.210534Z"
    }
   },
   "outputs": [],
   "source": [
    "# determiner les colonnes presentant les données manquantes avec le pourcentage de données manquantes dans chaque fichier"
   ]
  },
  {
   "cell_type": "code",
   "execution_count": 8,
   "metadata": {
    "ExecuteTime": {
     "end_time": "2020-08-19T12:45:14.476086Z",
     "start_time": "2020-08-19T12:45:14.330728Z"
    }
   },
   "outputs": [],
   "source": [
    "# remplacer les valeurs manquantes des colonnes conso, montant_trans, nbre_trans du deuxieme fichier"
   ]
  },
  {
   "cell_type": "code",
   "execution_count": 9,
   "metadata": {
    "ExecuteTime": {
     "end_time": "2020-08-19T12:45:14.953614Z",
     "start_time": "2020-08-19T12:45:14.949626Z"
    }
   },
   "outputs": [],
   "source": [
    "# passer à l'analyse du premier fichier contenant les infos sur le partage data "
   ]
  },
  {
   "cell_type": "code",
   "execution_count": 10,
   "metadata": {
    "ExecuteTime": {
     "end_time": "2020-08-19T12:45:16.016651Z",
     "start_time": "2020-08-19T12:45:15.350105Z"
    }
   },
   "outputs": [],
   "source": [
    "# passer à l' analyse du deuxieme fichier contenant les infos sur la consommation"
   ]
  },
  {
   "cell_type": "code",
   "execution_count": 11,
   "metadata": {
    "ExecuteTime": {
     "end_time": "2020-08-19T12:45:16.137042Z",
     "start_time": "2020-08-19T12:45:16.026625Z"
    }
   },
   "outputs": [],
   "source": [
    "# Avez vous trouvez des individus extrêmes dont l'activité de partage data est suspect?\n",
    "# selectionnez ces individus et analysez les infos leurs concernant dans le deuxième fichier"
   ]
  },
  {
   "cell_type": "code",
   "execution_count": 12,
   "metadata": {
    "ExecuteTime": {
     "end_time": "2020-08-19T12:45:17.944662Z",
     "start_time": "2020-08-19T12:45:17.940671Z"
    }
   },
   "outputs": [],
   "source": [
    "# aggreger le ca_total, le montant_trans, nbre_trans de chaque individus du deuxieme fichier dans un nouveau dataframe Df1"
   ]
  },
  {
   "cell_type": "code",
   "execution_count": 13,
   "metadata": {
    "ExecuteTime": {
     "end_time": "2020-08-19T12:45:19.351801Z",
     "start_time": "2020-08-19T12:45:19.348809Z"
    }
   },
   "outputs": [],
   "source": [
    "# calculer une nouvelle colonne nommé nbre_delai representant la difference entre la dateactivation et la date_id du premier fichier"
   ]
  },
  {
   "cell_type": "code",
   "execution_count": 14,
   "metadata": {
    "ExecuteTime": {
     "end_time": "2020-08-19T12:45:20.903009Z",
     "start_time": "2020-08-19T12:45:20.896027Z"
    }
   },
   "outputs": [],
   "source": [
    "# determiner le nombre de partage distinct,le volume total partagé, la moyenne de nbre_delai  de chaque individu dans un nouveau dataframe Df2"
   ]
  },
  {
   "cell_type": "code",
   "execution_count": 15,
   "metadata": {
    "ExecuteTime": {
     "end_time": "2020-08-19T12:45:22.643872Z",
     "start_time": "2020-08-19T12:45:22.639883Z"
    }
   },
   "outputs": [],
   "source": [
    "# faire la jointure de Df1 et Df2 en gardant uniquement les colonnes numeriques "
   ]
  },
  {
   "cell_type": "code",
   "execution_count": null,
   "metadata": {},
   "outputs": [],
   "source": []
  }
 ],
 "metadata": {
  "hide_input": false,
  "kernelspec": {
   "display_name": "Python 3",
   "language": "python",
   "name": "python3"
  },
  "language_info": {
   "codemirror_mode": {
    "name": "ipython",
    "version": 3
   },
   "file_extension": ".py",
   "mimetype": "text/x-python",
   "name": "python",
   "nbconvert_exporter": "python",
   "pygments_lexer": "ipython3",
   "version": "3.7.3"
  },
  "toc": {
   "base_numbering": 1,
   "nav_menu": {},
   "number_sections": true,
   "sideBar": true,
   "skip_h1_title": false,
   "title_cell": "Table of Contents",
   "title_sidebar": "Contents",
   "toc_cell": false,
   "toc_position": {},
   "toc_section_display": true,
   "toc_window_display": true
  },
  "varInspector": {
   "cols": {
    "lenName": 16,
    "lenType": 16,
    "lenVar": 40
   },
   "kernels_config": {
    "python": {
     "delete_cmd_postfix": "",
     "delete_cmd_prefix": "del ",
     "library": "var_list.py",
     "varRefreshCmd": "print(var_dic_list())"
    },
    "r": {
     "delete_cmd_postfix": ") ",
     "delete_cmd_prefix": "rm(",
     "library": "var_list.r",
     "varRefreshCmd": "cat(var_dic_list()) "
    }
   },
   "oldHeight": 122.86000000000001,
   "position": {
    "height": "40px",
    "left": "1266px",
    "right": "20px",
    "top": "120px",
    "width": "250px"
   },
   "types_to_exclude": [
    "module",
    "function",
    "builtin_function_or_method",
    "instance",
    "_Feature"
   ],
   "varInspector_section_display": "none",
   "window_display": true
  }
 },
 "nbformat": 4,
 "nbformat_minor": 2
}
